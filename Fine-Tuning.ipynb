{
 "cells": [
  {
   "cell_type": "code",
   "execution_count": 1,
   "id": "5e83b555-81b9-430b-ab5a-c81cc29ca688",
   "metadata": {},
   "outputs": [
    {
     "data": {
      "application/vnd.jupyter.widget-view+json": {
       "model_id": "fd92baf176b8466cbe9a0f3fb97498b8",
       "version_major": 2,
       "version_minor": 0
      },
      "text/plain": [
       "tokenizer_config.json:   0%|          | 0.00/252 [00:00<?, ?B/s]"
      ]
     },
     "metadata": {},
     "output_type": "display_data"
    },
    {
     "name": "stderr",
     "output_type": "stream",
     "text": [
      "C:\\Users\\alexi\\anaconda3\\Lib\\site-packages\\huggingface_hub\\file_download.py:148: UserWarning: `huggingface_hub` cache-system uses symlinks by default to efficiently store duplicated files but your machine does not support them in C:\\Users\\alexi\\.cache\\huggingface\\hub\\models--ProsusAI--finbert. Caching files will still work but in a degraded version that might require more space on your disk. This warning can be disabled by setting the `HF_HUB_DISABLE_SYMLINKS_WARNING` environment variable. For more details, see https://huggingface.co/docs/huggingface_hub/how-to-cache#limitations.\n",
      "To support symlinks on Windows, you either need to activate Developer Mode or to run Python as an administrator. In order to see activate developer mode, see this article: https://docs.microsoft.com/en-us/windows/apps/get-started/enable-your-device-for-development\n",
      "  warnings.warn(message)\n"
     ]
    },
    {
     "data": {
      "application/vnd.jupyter.widget-view+json": {
       "model_id": "a37598e78b0b42ea9055b5778682c704",
       "version_major": 2,
       "version_minor": 0
      },
      "text/plain": [
       "config.json:   0%|          | 0.00/758 [00:00<?, ?B/s]"
      ]
     },
     "metadata": {},
     "output_type": "display_data"
    },
    {
     "data": {
      "application/vnd.jupyter.widget-view+json": {
       "model_id": "c4b21517d852468dab5e212cc361bfb7",
       "version_major": 2,
       "version_minor": 0
      },
      "text/plain": [
       "vocab.txt:   0%|          | 0.00/232k [00:00<?, ?B/s]"
      ]
     },
     "metadata": {},
     "output_type": "display_data"
    },
    {
     "data": {
      "application/vnd.jupyter.widget-view+json": {
       "model_id": "2a02b9f32bff438ab83a726d1e165f18",
       "version_major": 2,
       "version_minor": 0
      },
      "text/plain": [
       "special_tokens_map.json:   0%|          | 0.00/112 [00:00<?, ?B/s]"
      ]
     },
     "metadata": {},
     "output_type": "display_data"
    },
    {
     "data": {
      "application/vnd.jupyter.widget-view+json": {
       "model_id": "589f8cea7f094632ad6d205fab1225fe",
       "version_major": 2,
       "version_minor": 0
      },
      "text/plain": [
       "pytorch_model.bin:   0%|          | 0.00/438M [00:00<?, ?B/s]"
      ]
     },
     "metadata": {},
     "output_type": "display_data"
    }
   ],
   "source": [
    "# Load model directly\n",
    "from transformers import AutoTokenizer, AutoModelForSequenceClassification\n",
    "\n",
    "tokenizer = AutoTokenizer.from_pretrained(\"ProsusAI/finbert\")\n",
    "model = AutoModelForSequenceClassification.from_pretrained(\"ProsusAI/finbert\")"
   ]
  },
  {
   "cell_type": "code",
   "execution_count": 30,
   "id": "bd92d95b-2f06-4f78-8fbd-baba569d22af",
   "metadata": {},
   "outputs": [],
   "source": [
    "import torch\n",
    "import torch.nn.functional as F\n",
    "from transformers import AutoTokenizer, AutoModelForSequenceClassification\n",
    "import pandas as pd\n",
    "\n",
    "dataset = pd.read_csv(\"bitcoin_sentiments_21_24_cleaned.csv\")\n",
    "\n",
    "data_text = dataset['Cleaned_Description']\n",
    "labels = dataset['Sentiment_Category']"
   ]
  },
  {
   "cell_type": "code",
   "execution_count": 31,
   "id": "eaa06895-73f7-496b-92be-a52536101d9c",
   "metadata": {},
   "outputs": [],
   "source": [
    "tokenizer = AutoTokenizer.from_pretrained(\"ProsusAI/finbert\")\n",
    "model = AutoModelForSequenceClassification.from_pretrained(\"ProsusAI/finbert\")\n",
    "\n",
    "preds = []\n",
    "for text in data_text:\n",
    "    inputs = tokenizer(text, return_tensors=\"pt\")\n",
    "\n",
    "    with torch.no_grad():\n",
    "        outputs = model(**inputs)\n",
    "        logits = outputs.logits\n",
    "        probs = F.softmax(logits, dim=-1)\n",
    "        label = torch.argmax(probs, dim=1).item()\n",
    "        preds.append(label)"
   ]
  },
  {
   "cell_type": "code",
   "execution_count": 32,
   "id": "50e17361-0889-4fb8-9a6e-da4d4e44df45",
   "metadata": {},
   "outputs": [
    {
     "name": "stdout",
     "output_type": "stream",
     "text": [
      "Accuracy:  0.7424\n",
      "Precision: 0.7406\n",
      "Recall:    0.7459\n",
      "F1 score:  0.7402\n"
     ]
    }
   ],
   "source": [
    "from sklearn.metrics import accuracy_score, precision_score, recall_score, f1_score\n",
    "\n",
    "labels = list(labels)\n",
    "\n",
    "accuracy = accuracy_score(labels, preds)\n",
    "\n",
    "precision = precision_score(labels, preds, average='macro')\n",
    "recall = recall_score(labels, preds, average='macro')\n",
    "f1 = f1_score(labels, preds, average='macro')\n",
    "\n",
    "print(f\"Accuracy:  {accuracy:.4f}\")\n",
    "print(f\"Precision: {precision:.4f}\")\n",
    "print(f\"Recall:    {recall:.4f}\")\n",
    "print(f\"F1 score:  {f1:.4f}\")"
   ]
  },
  {
   "cell_type": "code",
   "execution_count": 34,
   "id": "fc181050-e239-4998-b307-404b45d890b3",
   "metadata": {},
   "outputs": [
    {
     "data": {
      "text/html": [
       "<div>\n",
       "<style scoped>\n",
       "    .dataframe tbody tr th:only-of-type {\n",
       "        vertical-align: middle;\n",
       "    }\n",
       "\n",
       "    .dataframe tbody tr th {\n",
       "        vertical-align: top;\n",
       "    }\n",
       "\n",
       "    .dataframe thead th {\n",
       "        text-align: right;\n",
       "    }\n",
       "</style>\n",
       "<table border=\"1\" class=\"dataframe\">\n",
       "  <thead>\n",
       "    <tr style=\"text-align: right;\">\n",
       "      <th></th>\n",
       "      <th>Date</th>\n",
       "      <th>Cleaned_Description</th>\n",
       "      <th>Sentiment_Category</th>\n",
       "    </tr>\n",
       "  </thead>\n",
       "  <tbody>\n",
       "    <tr>\n",
       "      <th>0</th>\n",
       "      <td>2021-11-05 04:42:00</td>\n",
       "      <td>Bitcoin price is consolidating near the USD 62...</td>\n",
       "      <td>0</td>\n",
       "    </tr>\n",
       "    <tr>\n",
       "      <th>1</th>\n",
       "      <td>2021-11-05 08:15:00</td>\n",
       "      <td>Congress could finally approve or reject the m...</td>\n",
       "      <td>2</td>\n",
       "    </tr>\n",
       "    <tr>\n",
       "      <th>2</th>\n",
       "      <td>2021-11-05 10:24:00</td>\n",
       "      <td>Bitcoin increasingly becoming a political inst...</td>\n",
       "      <td>2</td>\n",
       "    </tr>\n",
       "    <tr>\n",
       "      <th>3</th>\n",
       "      <td>2021-11-05 16:58:00</td>\n",
       "      <td>There is still potential for the price of bitc...</td>\n",
       "      <td>0</td>\n",
       "    </tr>\n",
       "    <tr>\n",
       "      <th>4</th>\n",
       "      <td>2021-11-05 21:00:00</td>\n",
       "      <td>Several companies are looking to Latin America...</td>\n",
       "      <td>2</td>\n",
       "    </tr>\n",
       "    <tr>\n",
       "      <th>...</th>\n",
       "      <td>...</td>\n",
       "      <td>...</td>\n",
       "      <td>...</td>\n",
       "    </tr>\n",
       "    <tr>\n",
       "      <th>11000</th>\n",
       "      <td>2024-09-12 00:00:00</td>\n",
       "      <td>The government of El Salvador has been buying ...</td>\n",
       "      <td>2</td>\n",
       "    </tr>\n",
       "    <tr>\n",
       "      <th>11001</th>\n",
       "      <td>2024-09-12 00:00:00</td>\n",
       "      <td>According to data from mempoolspace transactio...</td>\n",
       "      <td>0</td>\n",
       "    </tr>\n",
       "    <tr>\n",
       "      <th>11002</th>\n",
       "      <td>2024-09-12 00:00:00</td>\n",
       "      <td>Time Magazine reporter Vera Bergengruen believ...</td>\n",
       "      <td>2</td>\n",
       "    </tr>\n",
       "    <tr>\n",
       "      <th>11003</th>\n",
       "      <td>2024-09-12 00:00:00</td>\n",
       "      <td>in bitcoin is concentrated at around 58500 acc...</td>\n",
       "      <td>2</td>\n",
       "    </tr>\n",
       "    <tr>\n",
       "      <th>11004</th>\n",
       "      <td>2024-09-12 00:00:00</td>\n",
       "      <td>Solv has integrated Chainlinks CrossChain Inte...</td>\n",
       "      <td>2</td>\n",
       "    </tr>\n",
       "  </tbody>\n",
       "</table>\n",
       "<p>11005 rows × 3 columns</p>\n",
       "</div>"
      ],
      "text/plain": [
       "                      Date                                Cleaned_Description  \\\n",
       "0      2021-11-05 04:42:00  Bitcoin price is consolidating near the USD 62...   \n",
       "1      2021-11-05 08:15:00  Congress could finally approve or reject the m...   \n",
       "2      2021-11-05 10:24:00  Bitcoin increasingly becoming a political inst...   \n",
       "3      2021-11-05 16:58:00  There is still potential for the price of bitc...   \n",
       "4      2021-11-05 21:00:00  Several companies are looking to Latin America...   \n",
       "...                    ...                                                ...   \n",
       "11000  2024-09-12 00:00:00  The government of El Salvador has been buying ...   \n",
       "11001  2024-09-12 00:00:00  According to data from mempoolspace transactio...   \n",
       "11002  2024-09-12 00:00:00  Time Magazine reporter Vera Bergengruen believ...   \n",
       "11003  2024-09-12 00:00:00  in bitcoin is concentrated at around 58500 acc...   \n",
       "11004  2024-09-12 00:00:00  Solv has integrated Chainlinks CrossChain Inte...   \n",
       "\n",
       "       Sentiment_Category  \n",
       "0                       0  \n",
       "1                       2  \n",
       "2                       2  \n",
       "3                       0  \n",
       "4                       2  \n",
       "...                   ...  \n",
       "11000                   2  \n",
       "11001                   0  \n",
       "11002                   2  \n",
       "11003                   2  \n",
       "11004                   2  \n",
       "\n",
       "[11005 rows x 3 columns]"
      ]
     },
     "execution_count": 34,
     "metadata": {},
     "output_type": "execute_result"
    }
   ],
   "source": [
    "dataset"
   ]
  },
  {
   "cell_type": "code",
   "execution_count": 35,
   "id": "ae9b8713-7e20-40e3-8f7e-f98983dc212b",
   "metadata": {},
   "outputs": [
    {
     "data": {
      "text/html": [
       "<div>\n",
       "<style scoped>\n",
       "    .dataframe tbody tr th:only-of-type {\n",
       "        vertical-align: middle;\n",
       "    }\n",
       "\n",
       "    .dataframe tbody tr th {\n",
       "        vertical-align: top;\n",
       "    }\n",
       "\n",
       "    .dataframe thead th {\n",
       "        text-align: right;\n",
       "    }\n",
       "</style>\n",
       "<table border=\"1\" class=\"dataframe\">\n",
       "  <thead>\n",
       "    <tr style=\"text-align: right;\">\n",
       "      <th></th>\n",
       "      <th>Date</th>\n",
       "      <th>Cleaned_Description</th>\n",
       "      <th>Sentiment_Category</th>\n",
       "      <th>Benchmark_Predictions</th>\n",
       "    </tr>\n",
       "  </thead>\n",
       "  <tbody>\n",
       "    <tr>\n",
       "      <th>0</th>\n",
       "      <td>2021-11-05 04:42:00</td>\n",
       "      <td>Bitcoin price is consolidating near the USD 62...</td>\n",
       "      <td>0</td>\n",
       "      <td>1</td>\n",
       "    </tr>\n",
       "    <tr>\n",
       "      <th>1</th>\n",
       "      <td>2021-11-05 08:15:00</td>\n",
       "      <td>Congress could finally approve or reject the m...</td>\n",
       "      <td>2</td>\n",
       "      <td>1</td>\n",
       "    </tr>\n",
       "    <tr>\n",
       "      <th>2</th>\n",
       "      <td>2021-11-05 10:24:00</td>\n",
       "      <td>Bitcoin increasingly becoming a political inst...</td>\n",
       "      <td>2</td>\n",
       "      <td>2</td>\n",
       "    </tr>\n",
       "    <tr>\n",
       "      <th>3</th>\n",
       "      <td>2021-11-05 16:58:00</td>\n",
       "      <td>There is still potential for the price of bitc...</td>\n",
       "      <td>0</td>\n",
       "      <td>0</td>\n",
       "    </tr>\n",
       "    <tr>\n",
       "      <th>4</th>\n",
       "      <td>2021-11-05 21:00:00</td>\n",
       "      <td>Several companies are looking to Latin America...</td>\n",
       "      <td>2</td>\n",
       "      <td>2</td>\n",
       "    </tr>\n",
       "    <tr>\n",
       "      <th>...</th>\n",
       "      <td>...</td>\n",
       "      <td>...</td>\n",
       "      <td>...</td>\n",
       "      <td>...</td>\n",
       "    </tr>\n",
       "    <tr>\n",
       "      <th>11000</th>\n",
       "      <td>2024-09-12 00:00:00</td>\n",
       "      <td>The government of El Salvador has been buying ...</td>\n",
       "      <td>2</td>\n",
       "      <td>2</td>\n",
       "    </tr>\n",
       "    <tr>\n",
       "      <th>11001</th>\n",
       "      <td>2024-09-12 00:00:00</td>\n",
       "      <td>According to data from mempoolspace transactio...</td>\n",
       "      <td>0</td>\n",
       "      <td>0</td>\n",
       "    </tr>\n",
       "    <tr>\n",
       "      <th>11002</th>\n",
       "      <td>2024-09-12 00:00:00</td>\n",
       "      <td>Time Magazine reporter Vera Bergengruen believ...</td>\n",
       "      <td>2</td>\n",
       "      <td>2</td>\n",
       "    </tr>\n",
       "    <tr>\n",
       "      <th>11003</th>\n",
       "      <td>2024-09-12 00:00:00</td>\n",
       "      <td>in bitcoin is concentrated at around 58500 acc...</td>\n",
       "      <td>2</td>\n",
       "      <td>2</td>\n",
       "    </tr>\n",
       "    <tr>\n",
       "      <th>11004</th>\n",
       "      <td>2024-09-12 00:00:00</td>\n",
       "      <td>Solv has integrated Chainlinks CrossChain Inte...</td>\n",
       "      <td>2</td>\n",
       "      <td>2</td>\n",
       "    </tr>\n",
       "  </tbody>\n",
       "</table>\n",
       "<p>11005 rows × 4 columns</p>\n",
       "</div>"
      ],
      "text/plain": [
       "                      Date                                Cleaned_Description  \\\n",
       "0      2021-11-05 04:42:00  Bitcoin price is consolidating near the USD 62...   \n",
       "1      2021-11-05 08:15:00  Congress could finally approve or reject the m...   \n",
       "2      2021-11-05 10:24:00  Bitcoin increasingly becoming a political inst...   \n",
       "3      2021-11-05 16:58:00  There is still potential for the price of bitc...   \n",
       "4      2021-11-05 21:00:00  Several companies are looking to Latin America...   \n",
       "...                    ...                                                ...   \n",
       "11000  2024-09-12 00:00:00  The government of El Salvador has been buying ...   \n",
       "11001  2024-09-12 00:00:00  According to data from mempoolspace transactio...   \n",
       "11002  2024-09-12 00:00:00  Time Magazine reporter Vera Bergengruen believ...   \n",
       "11003  2024-09-12 00:00:00  in bitcoin is concentrated at around 58500 acc...   \n",
       "11004  2024-09-12 00:00:00  Solv has integrated Chainlinks CrossChain Inte...   \n",
       "\n",
       "       Sentiment_Category  Benchmark_Predictions  \n",
       "0                       0                      1  \n",
       "1                       2                      1  \n",
       "2                       2                      2  \n",
       "3                       0                      0  \n",
       "4                       2                      2  \n",
       "...                   ...                    ...  \n",
       "11000                   2                      2  \n",
       "11001                   0                      0  \n",
       "11002                   2                      2  \n",
       "11003                   2                      2  \n",
       "11004                   2                      2  \n",
       "\n",
       "[11005 rows x 4 columns]"
      ]
     },
     "execution_count": 35,
     "metadata": {},
     "output_type": "execute_result"
    }
   ],
   "source": [
    "dataset['Benchmark_Predictions'] = preds\n",
    "dataset"
   ]
  },
  {
   "cell_type": "code",
   "execution_count": 56,
   "id": "666d97ca-00b2-4ecd-9f63-62478045199e",
   "metadata": {},
   "outputs": [],
   "source": [
    "#dataset.to_csv(\"bitcoin_sentiments_21_24_cleaned_benchmarked.csv\", index=False)"
   ]
  },
  {
   "cell_type": "code",
   "execution_count": null,
   "id": "835430df-6937-4b6d-8f5f-a4e0dfd8ca59",
   "metadata": {},
   "outputs": [],
   "source": []
  },
  {
   "cell_type": "code",
   "execution_count": null,
   "id": "135c7351-b8e7-4ea9-b55a-876df7e889ec",
   "metadata": {},
   "outputs": [],
   "source": []
  },
  {
   "cell_type": "code",
   "execution_count": null,
   "id": "81fbff61-45cd-4a64-8a13-f3078e7e83da",
   "metadata": {},
   "outputs": [],
   "source": []
  },
  {
   "cell_type": "code",
   "execution_count": 6,
   "id": "02158b3d-906e-4b3d-85cc-3ebb7a61ae5f",
   "metadata": {},
   "outputs": [],
   "source": [
    "########################################################################################################################################################\n",
    "\n",
    "##############################################              FINE TUNING               ################################################################\n",
    "\n",
    "########################################################################################################################################################\n",
    "from transformers import AutoTokenizer, AutoModelForSequenceClassification, Trainer, TrainingArguments\n",
    "import torch\n",
    "import pandas as pd\n",
    "\n",
    "tokenizer = AutoTokenizer.from_pretrained(\"ProsusAI/finbert\")\n",
    "model = AutoModelForSequenceClassification.from_pretrained(\"ProsusAI/finbert\")"
   ]
  },
  {
   "cell_type": "code",
   "execution_count": 7,
   "id": "e4f39647-2806-4086-aba1-2ed9a6b73e46",
   "metadata": {},
   "outputs": [],
   "source": [
    "dataset = pd.read_csv(\"bitcoin_sentiments_21_24_cleaned.csv\")\n",
    "dataset.reset_index(inplace=True)\n",
    "texts = list(dataset['Cleaned_Description'])\n",
    "labels = list(dataset['Sentiment_Category'])\n",
    "dates = list(dataset['Date'])\n",
    "indexes = list(dataset['index'])\n",
    "\n",
    "encodings = tokenizer(texts, truncation=True, padding=\"max_length\", max_length=64)"
   ]
  },
  {
   "cell_type": "code",
   "execution_count": 8,
   "id": "f2ad54c6-6010-41c7-bd1e-a822eada7cee",
   "metadata": {},
   "outputs": [
    {
     "data": {
      "text/html": [
       "<div>\n",
       "<style scoped>\n",
       "    .dataframe tbody tr th:only-of-type {\n",
       "        vertical-align: middle;\n",
       "    }\n",
       "\n",
       "    .dataframe tbody tr th {\n",
       "        vertical-align: top;\n",
       "    }\n",
       "\n",
       "    .dataframe thead th {\n",
       "        text-align: right;\n",
       "    }\n",
       "</style>\n",
       "<table border=\"1\" class=\"dataframe\">\n",
       "  <thead>\n",
       "    <tr style=\"text-align: right;\">\n",
       "      <th></th>\n",
       "      <th>index</th>\n",
       "      <th>Date</th>\n",
       "      <th>Cleaned_Description</th>\n",
       "      <th>Sentiment_Category</th>\n",
       "    </tr>\n",
       "  </thead>\n",
       "  <tbody>\n",
       "    <tr>\n",
       "      <th>0</th>\n",
       "      <td>0</td>\n",
       "      <td>2021-11-05 04:42:00</td>\n",
       "      <td>Bitcoin price is consolidating near the USD 62...</td>\n",
       "      <td>0</td>\n",
       "    </tr>\n",
       "    <tr>\n",
       "      <th>1</th>\n",
       "      <td>1</td>\n",
       "      <td>2021-11-05 08:15:00</td>\n",
       "      <td>Congress could finally approve or reject the m...</td>\n",
       "      <td>2</td>\n",
       "    </tr>\n",
       "    <tr>\n",
       "      <th>2</th>\n",
       "      <td>2</td>\n",
       "      <td>2021-11-05 10:24:00</td>\n",
       "      <td>Bitcoin increasingly becoming a political inst...</td>\n",
       "      <td>2</td>\n",
       "    </tr>\n",
       "    <tr>\n",
       "      <th>3</th>\n",
       "      <td>3</td>\n",
       "      <td>2021-11-05 16:58:00</td>\n",
       "      <td>There is still potential for the price of bitc...</td>\n",
       "      <td>0</td>\n",
       "    </tr>\n",
       "    <tr>\n",
       "      <th>4</th>\n",
       "      <td>4</td>\n",
       "      <td>2021-11-05 21:00:00</td>\n",
       "      <td>Several companies are looking to Latin America...</td>\n",
       "      <td>2</td>\n",
       "    </tr>\n",
       "    <tr>\n",
       "      <th>...</th>\n",
       "      <td>...</td>\n",
       "      <td>...</td>\n",
       "      <td>...</td>\n",
       "      <td>...</td>\n",
       "    </tr>\n",
       "    <tr>\n",
       "      <th>11000</th>\n",
       "      <td>11000</td>\n",
       "      <td>2024-09-12 00:00:00</td>\n",
       "      <td>The government of El Salvador has been buying ...</td>\n",
       "      <td>2</td>\n",
       "    </tr>\n",
       "    <tr>\n",
       "      <th>11001</th>\n",
       "      <td>11001</td>\n",
       "      <td>2024-09-12 00:00:00</td>\n",
       "      <td>According to data from mempoolspace transactio...</td>\n",
       "      <td>0</td>\n",
       "    </tr>\n",
       "    <tr>\n",
       "      <th>11002</th>\n",
       "      <td>11002</td>\n",
       "      <td>2024-09-12 00:00:00</td>\n",
       "      <td>Time Magazine reporter Vera Bergengruen believ...</td>\n",
       "      <td>2</td>\n",
       "    </tr>\n",
       "    <tr>\n",
       "      <th>11003</th>\n",
       "      <td>11003</td>\n",
       "      <td>2024-09-12 00:00:00</td>\n",
       "      <td>in bitcoin is concentrated at around 58500 acc...</td>\n",
       "      <td>2</td>\n",
       "    </tr>\n",
       "    <tr>\n",
       "      <th>11004</th>\n",
       "      <td>11004</td>\n",
       "      <td>2024-09-12 00:00:00</td>\n",
       "      <td>Solv has integrated Chainlinks CrossChain Inte...</td>\n",
       "      <td>2</td>\n",
       "    </tr>\n",
       "  </tbody>\n",
       "</table>\n",
       "<p>11005 rows × 4 columns</p>\n",
       "</div>"
      ],
      "text/plain": [
       "       index                 Date  \\\n",
       "0          0  2021-11-05 04:42:00   \n",
       "1          1  2021-11-05 08:15:00   \n",
       "2          2  2021-11-05 10:24:00   \n",
       "3          3  2021-11-05 16:58:00   \n",
       "4          4  2021-11-05 21:00:00   \n",
       "...      ...                  ...   \n",
       "11000  11000  2024-09-12 00:00:00   \n",
       "11001  11001  2024-09-12 00:00:00   \n",
       "11002  11002  2024-09-12 00:00:00   \n",
       "11003  11003  2024-09-12 00:00:00   \n",
       "11004  11004  2024-09-12 00:00:00   \n",
       "\n",
       "                                     Cleaned_Description  Sentiment_Category  \n",
       "0      Bitcoin price is consolidating near the USD 62...                   0  \n",
       "1      Congress could finally approve or reject the m...                   2  \n",
       "2      Bitcoin increasingly becoming a political inst...                   2  \n",
       "3      There is still potential for the price of bitc...                   0  \n",
       "4      Several companies are looking to Latin America...                   2  \n",
       "...                                                  ...                 ...  \n",
       "11000  The government of El Salvador has been buying ...                   2  \n",
       "11001  According to data from mempoolspace transactio...                   0  \n",
       "11002  Time Magazine reporter Vera Bergengruen believ...                   2  \n",
       "11003  in bitcoin is concentrated at around 58500 acc...                   2  \n",
       "11004  Solv has integrated Chainlinks CrossChain Inte...                   2  \n",
       "\n",
       "[11005 rows x 4 columns]"
      ]
     },
     "execution_count": 8,
     "metadata": {},
     "output_type": "execute_result"
    }
   ],
   "source": [
    "dataset"
   ]
  },
  {
   "cell_type": "code",
   "execution_count": 9,
   "id": "15cd84f9-6694-4fc4-b894-d3448b67034b",
   "metadata": {},
   "outputs": [
    {
     "data": {
      "text/plain": [
       "Sentiment_Category\n",
       "2    4292\n",
       "0    3873\n",
       "1    2840\n",
       "Name: count, dtype: int64"
      ]
     },
     "execution_count": 9,
     "metadata": {},
     "output_type": "execute_result"
    }
   ],
   "source": [
    "dataset['Sentiment_Category'].value_counts()"
   ]
  },
  {
   "cell_type": "code",
   "execution_count": 10,
   "id": "79e42d39-21a5-4fc0-96e7-ae373f9a7242",
   "metadata": {},
   "outputs": [],
   "source": [
    "from torch.utils.data import Dataset, DataLoader, random_split\n",
    "\n",
    "class SentimentDataset(Dataset):\n",
    "    def __init__(self, encodings, labels, indexes, dates, texts):\n",
    "        self.encodings = encodings\n",
    "        self.labels = labels\n",
    "        self.indexes = indexes\n",
    "        self.dates = dates\n",
    "        self.texts = texts\n",
    "    \n",
    "    def __len__(self):\n",
    "        return len(self.labels)\n",
    "\n",
    "    def __getitem__(self, idx):\n",
    "        item = {key: torch.tensor(val[idx]) for key, val in self.encodings.items()}\n",
    "        item['labels'] = torch.tensor(self.labels[idx])\n",
    "        item['indexes'] = self.indexes[idx]\n",
    "        item['dates'] = self.dates[idx]\n",
    "        item['texts'] = self.texts[idx]\n",
    "        return item\n",
    "\n",
    "dataset = SentimentDataset(encodings, labels, indexes, dates, texts)"
   ]
  },
  {
   "cell_type": "code",
   "execution_count": 11,
   "id": "973c4598-10a8-4d7e-bc5a-287a4891aaa4",
   "metadata": {},
   "outputs": [],
   "source": [
    "train_size = int(0.1 * len(dataset))  # 80% for training\n",
    "val_size = int(0.1 * len(dataset))    # 10% for validation\n",
    "test_size = len(dataset) - train_size - val_size  # Remaining 10% for testing\n",
    "\n",
    "# Split the dataset\n",
    "train_dataset, val_dataset, test_dataset = random_split(dataset, [train_size, val_size, test_size])"
   ]
  },
  {
   "cell_type": "code",
   "execution_count": 12,
   "id": "fd140ae6-c23e-4f0b-91cc-449b03d021da",
   "metadata": {},
   "outputs": [],
   "source": [
    "from sklearn.metrics import accuracy_score, precision_score, recall_score, f1_score\n",
    "\n",
    "def compute_metrics(eval_pred):\n",
    "    \n",
    "    logits, labels = eval_pred\n",
    "    \n",
    "    # Convert logits to predicted class IDs\n",
    "    preds = logits.argmax(axis=-1)\n",
    "    \n",
    "    # Compute metrics\n",
    "    accuracy = accuracy_score(labels, preds)\n",
    "    precision = precision_score(labels, preds, average='macro')\n",
    "    recall = recall_score(labels, preds, average='macro')\n",
    "    f1 = f1_score(labels, preds, average='macro')\n",
    "\n",
    "    return {\n",
    "        \"accuracy\": accuracy,\n",
    "        \"precision\": precision,\n",
    "        \"recall\": recall,\n",
    "        \"f1\": f1,\n",
    "    }\n"
   ]
  },
  {
   "cell_type": "code",
   "execution_count": 13,
   "id": "114402d0-93f0-4e5e-ae11-d2c0feae89cb",
   "metadata": {},
   "outputs": [
    {
     "name": "stderr",
     "output_type": "stream",
     "text": [
      "C:\\Users\\alexi\\anaconda3\\Lib\\site-packages\\accelerate\\accelerator.py:436: FutureWarning: Passing the following arguments to `Accelerator` is deprecated and will be removed in version 1.0 of Accelerate: dict_keys(['dispatch_batches', 'split_batches', 'even_batches', 'use_seedable_sampler']). Please pass an `accelerate.DataLoaderConfiguration` instead: \n",
      "dataloader_config = DataLoaderConfiguration(dispatch_batches=None, split_batches=False, even_batches=True, use_seedable_sampler=True)\n",
      "  warnings.warn(\n"
     ]
    },
    {
     "data": {
      "text/html": [
       "\n",
       "    <div>\n",
       "      \n",
       "      <progress value='400' max='400' style='width:300px; height:20px; vertical-align: middle;'></progress>\n",
       "      [400/400 29:38, Epoch 1/2]\n",
       "    </div>\n",
       "    <table border=\"1\" class=\"dataframe\">\n",
       "  <thead>\n",
       " <tr style=\"text-align: left;\">\n",
       "      <th>Step</th>\n",
       "      <th>Training Loss</th>\n",
       "      <th>Validation Loss</th>\n",
       "      <th>Accuracy</th>\n",
       "      <th>Precision</th>\n",
       "      <th>Recall</th>\n",
       "      <th>F1</th>\n",
       "    </tr>\n",
       "  </thead>\n",
       "  <tbody>\n",
       "    <tr>\n",
       "      <td>25</td>\n",
       "      <td>0.663100</td>\n",
       "      <td>0.702001</td>\n",
       "      <td>0.722727</td>\n",
       "      <td>0.739731</td>\n",
       "      <td>0.734238</td>\n",
       "      <td>0.717543</td>\n",
       "    </tr>\n",
       "    <tr>\n",
       "      <td>50</td>\n",
       "      <td>0.578900</td>\n",
       "      <td>0.553220</td>\n",
       "      <td>0.797273</td>\n",
       "      <td>0.796656</td>\n",
       "      <td>0.793860</td>\n",
       "      <td>0.792952</td>\n",
       "    </tr>\n",
       "    <tr>\n",
       "      <td>75</td>\n",
       "      <td>0.626800</td>\n",
       "      <td>0.535352</td>\n",
       "      <td>0.795455</td>\n",
       "      <td>0.794541</td>\n",
       "      <td>0.788024</td>\n",
       "      <td>0.790494</td>\n",
       "    </tr>\n",
       "    <tr>\n",
       "      <td>100</td>\n",
       "      <td>0.492000</td>\n",
       "      <td>0.557816</td>\n",
       "      <td>0.791818</td>\n",
       "      <td>0.798540</td>\n",
       "      <td>0.774673</td>\n",
       "      <td>0.781576</td>\n",
       "    </tr>\n",
       "    <tr>\n",
       "      <td>125</td>\n",
       "      <td>0.566700</td>\n",
       "      <td>0.564915</td>\n",
       "      <td>0.782727</td>\n",
       "      <td>0.792421</td>\n",
       "      <td>0.785330</td>\n",
       "      <td>0.781678</td>\n",
       "    </tr>\n",
       "    <tr>\n",
       "      <td>150</td>\n",
       "      <td>0.463300</td>\n",
       "      <td>0.627189</td>\n",
       "      <td>0.763636</td>\n",
       "      <td>0.791032</td>\n",
       "      <td>0.763700</td>\n",
       "      <td>0.762146</td>\n",
       "    </tr>\n",
       "    <tr>\n",
       "      <td>175</td>\n",
       "      <td>0.572200</td>\n",
       "      <td>0.510788</td>\n",
       "      <td>0.804545</td>\n",
       "      <td>0.799565</td>\n",
       "      <td>0.808853</td>\n",
       "      <td>0.802503</td>\n",
       "    </tr>\n",
       "    <tr>\n",
       "      <td>200</td>\n",
       "      <td>0.635700</td>\n",
       "      <td>0.513602</td>\n",
       "      <td>0.809091</td>\n",
       "      <td>0.807276</td>\n",
       "      <td>0.807701</td>\n",
       "      <td>0.804964</td>\n",
       "    </tr>\n",
       "    <tr>\n",
       "      <td>225</td>\n",
       "      <td>0.533400</td>\n",
       "      <td>0.502188</td>\n",
       "      <td>0.814545</td>\n",
       "      <td>0.810260</td>\n",
       "      <td>0.815056</td>\n",
       "      <td>0.811682</td>\n",
       "    </tr>\n",
       "    <tr>\n",
       "      <td>250</td>\n",
       "      <td>0.479200</td>\n",
       "      <td>0.507142</td>\n",
       "      <td>0.816364</td>\n",
       "      <td>0.814217</td>\n",
       "      <td>0.815844</td>\n",
       "      <td>0.813612</td>\n",
       "    </tr>\n",
       "    <tr>\n",
       "      <td>275</td>\n",
       "      <td>0.496500</td>\n",
       "      <td>0.503891</td>\n",
       "      <td>0.812727</td>\n",
       "      <td>0.807845</td>\n",
       "      <td>0.816955</td>\n",
       "      <td>0.810369</td>\n",
       "    </tr>\n",
       "    <tr>\n",
       "      <td>300</td>\n",
       "      <td>0.201700</td>\n",
       "      <td>0.511094</td>\n",
       "      <td>0.808182</td>\n",
       "      <td>0.806702</td>\n",
       "      <td>0.811437</td>\n",
       "      <td>0.805527</td>\n",
       "    </tr>\n",
       "    <tr>\n",
       "      <td>325</td>\n",
       "      <td>0.245400</td>\n",
       "      <td>0.493465</td>\n",
       "      <td>0.824545</td>\n",
       "      <td>0.820207</td>\n",
       "      <td>0.823984</td>\n",
       "      <td>0.821740</td>\n",
       "    </tr>\n",
       "    <tr>\n",
       "      <td>350</td>\n",
       "      <td>0.242500</td>\n",
       "      <td>0.500034</td>\n",
       "      <td>0.826364</td>\n",
       "      <td>0.821558</td>\n",
       "      <td>0.827751</td>\n",
       "      <td>0.824011</td>\n",
       "    </tr>\n",
       "    <tr>\n",
       "      <td>375</td>\n",
       "      <td>0.280700</td>\n",
       "      <td>0.502826</td>\n",
       "      <td>0.825455</td>\n",
       "      <td>0.820713</td>\n",
       "      <td>0.826582</td>\n",
       "      <td>0.822994</td>\n",
       "    </tr>\n",
       "    <tr>\n",
       "      <td>400</td>\n",
       "      <td>0.350600</td>\n",
       "      <td>0.505495</td>\n",
       "      <td>0.826364</td>\n",
       "      <td>0.821830</td>\n",
       "      <td>0.827892</td>\n",
       "      <td>0.824081</td>\n",
       "    </tr>\n",
       "  </tbody>\n",
       "</table><p>"
      ],
      "text/plain": [
       "<IPython.core.display.HTML object>"
      ]
     },
     "metadata": {},
     "output_type": "display_data"
    },
    {
     "data": {
      "text/plain": [
       "TrainOutput(global_step=400, training_loss=0.46430304884910584, metrics={'train_runtime': 1779.4378, 'train_samples_per_second': 0.899, 'train_steps_per_second': 0.225, 'total_flos': 52622683545600.0, 'train_loss': 0.46430304884910584, 'epoch': 1.45})"
      ]
     },
     "execution_count": 13,
     "metadata": {},
     "output_type": "execute_result"
    }
   ],
   "source": [
    "training_args = TrainingArguments(\n",
    "    output_dir='bitcoin_finbert',\n",
    "    # num_train_epochs=3,\n",
    "    max_steps = 400, # comment out this line if you want to train in epochs\n",
    "    per_device_train_batch_size=4,\n",
    "    per_device_eval_batch_size=4,\n",
    "    evaluation_strategy=\"steps\",\n",
    "    save_strategy=\"steps\",\n",
    "    warmup_steps = 0.03,\n",
    "    logging_steps=25,\n",
    "    eval_steps=25, # comment out this line if you want to evaluate at the end of each epoch\n",
    "    learning_rate=1e-5,\n",
    "    save_steps=50,\n",
    "    load_best_model_at_end=True\n",
    ")\n",
    "\n",
    "trainer = Trainer(\n",
    "    model=model,\n",
    "    args=training_args,\n",
    "    train_dataset=train_dataset,\n",
    "    eval_dataset=val_dataset,\n",
    "    compute_metrics=compute_metrics\n",
    ")\n",
    "\n",
    "trainer.train()"
   ]
  },
  {
   "cell_type": "code",
   "execution_count": 14,
   "id": "77dfdd80-a4b2-4e77-9d35-1f4edc1ce6e9",
   "metadata": {},
   "outputs": [
    {
     "data": {
      "text/html": [],
      "text/plain": [
       "<IPython.core.display.HTML object>"
      ]
     },
     "metadata": {},
     "output_type": "display_data"
    }
   ],
   "source": [
    "trainer.evaluate()\n",
    "predictions = trainer.predict(test_dataset)"
   ]
  },
  {
   "cell_type": "code",
   "execution_count": 15,
   "id": "92d246f7-1875-45b5-a806-30500375b2b2",
   "metadata": {},
   "outputs": [
    {
     "data": {
      "text/plain": [
       "PredictionOutput(predictions=array([[ 0.3200121, -2.4324942,  2.0498855],\n",
       "       [ 1.3802487, -3.023093 ,  1.1148717],\n",
       "       [-1.0586864, -1.6603936,  3.0248592],\n",
       "       ...,\n",
       "       [ 2.46594  , -1.7899275, -1.9294591],\n",
       "       [-0.9663449, -1.8868587,  3.0947325],\n",
       "       [-1.5512599,  3.0546632, -1.2382368]], dtype=float32), label_ids=array([0, 2, 2, ..., 0, 2, 1], dtype=int64), metrics={'test_loss': 0.49490949511528015, 'test_accuracy': 0.8190800681431005, 'test_precision': 0.8148964469825765, 'test_recall': 0.818024949183549, 'test_f1': 0.8161798512582582, 'test_runtime': 628.1078, 'test_samples_per_second': 14.018, 'test_steps_per_second': 3.506})"
      ]
     },
     "execution_count": 15,
     "metadata": {},
     "output_type": "execute_result"
    }
   ],
   "source": [
    "predictions"
   ]
  },
  {
   "cell_type": "code",
   "execution_count": 16,
   "id": "82ee35ff-61ff-4b66-9971-b0dc9ebda3f5",
   "metadata": {},
   "outputs": [
    {
     "name": "stdout",
     "output_type": "stream",
     "text": [
      "Accuracy: 0.8191\n",
      "Precision: 0.8149\n",
      "Recall: 0.8180\n",
      "F1 Score: 0.8162\n"
     ]
    }
   ],
   "source": [
    "logits = predictions[0]\n",
    "labels = predictions[1]\n",
    "\n",
    "preds = logits.argmax(axis=-1)\n",
    "    \n",
    "# Compute metrics\n",
    "accuracy = accuracy_score(labels, preds)\n",
    "precision = precision_score(labels, preds, average='macro')\n",
    "recall = recall_score(labels, preds, average='macro')\n",
    "f1 = f1_score(labels, preds, average='macro')\n",
    "\n",
    "print(f\"Accuracy: {accuracy:.4f}\")\n",
    "print(f\"Precision: {precision:.4f}\")\n",
    "print(f\"Recall: {recall:.4f}\")\n",
    "print(f\"F1 Score: {f1:.4f}\")"
   ]
  },
  {
   "cell_type": "code",
   "execution_count": 17,
   "id": "8d581530-c5a4-4236-b1e4-ccd517caee6a",
   "metadata": {},
   "outputs": [
    {
     "data": {
      "text/plain": [
       "{'input_ids': tensor([  101,  1996, 12012,  3222,  1997,  1996, 17094,  2056,  1996,  2506,\n",
       "         23707,  4740,  2006,  3027,  2595,  6011,  2009,  2081,  1996,  2157,\n",
       "          2655,  2000,  5851,  3027,  2595,  2015,  3617,  7045,   102,     0,\n",
       "             0,     0,     0,     0,     0,     0,     0,     0,     0,     0,\n",
       "             0,     0,     0,     0,     0,     0,     0,     0,     0,     0,\n",
       "             0,     0,     0,     0,     0,     0,     0,     0,     0,     0,\n",
       "             0,     0,     0,     0]),\n",
       " 'token_type_ids': tensor([0, 0, 0, 0, 0, 0, 0, 0, 0, 0, 0, 0, 0, 0, 0, 0, 0, 0, 0, 0, 0, 0, 0, 0,\n",
       "         0, 0, 0, 0, 0, 0, 0, 0, 0, 0, 0, 0, 0, 0, 0, 0, 0, 0, 0, 0, 0, 0, 0, 0,\n",
       "         0, 0, 0, 0, 0, 0, 0, 0, 0, 0, 0, 0, 0, 0, 0, 0]),\n",
       " 'attention_mask': tensor([1, 1, 1, 1, 1, 1, 1, 1, 1, 1, 1, 1, 1, 1, 1, 1, 1, 1, 1, 1, 1, 1, 1, 1,\n",
       "         1, 1, 1, 1, 1, 0, 0, 0, 0, 0, 0, 0, 0, 0, 0, 0, 0, 0, 0, 0, 0, 0, 0, 0,\n",
       "         0, 0, 0, 0, 0, 0, 0, 0, 0, 0, 0, 0, 0, 0, 0, 0]),\n",
       " 'labels': tensor(0),\n",
       " 'indexes': 4710,\n",
       " 'dates': '2022-11-24 06:22:52',\n",
       " 'texts': 'The Securities Commission of The Bahamas said the continued hacking attempts on FTX prove it made the right call to secure FTXs digital assets'}"
      ]
     },
     "execution_count": 17,
     "metadata": {},
     "output_type": "execute_result"
    }
   ],
   "source": [
    "test_dataset[0]"
   ]
  },
  {
   "cell_type": "code",
   "execution_count": 18,
   "id": "3ba7d288-4e8f-46cb-89a8-8c1ac37abfbb",
   "metadata": {},
   "outputs": [],
   "source": [
    "dates_list = []\n",
    "texts_list = []\n",
    "indexes_list = []\n",
    "\n",
    "# Iterate through the dataset\n",
    "for item in test_dataset:  # Replace `dataset` with your dataset variable name\n",
    "    dates_list.append(item['dates'])\n",
    "    texts_list.append(item['texts'])\n",
    "    indexes_list.append(item['indexes'])"
   ]
  },
  {
   "cell_type": "code",
   "execution_count": 19,
   "id": "5b55d5aa-fde0-4fa4-9e04-0a1e8fc0bd3d",
   "metadata": {},
   "outputs": [],
   "source": [
    "result = pd.DataFrame({\n",
    "    'index': indexes_list,\n",
    "    'date': dates_list,\n",
    "    'text': texts_list,\n",
    "    'true_label': labels,\n",
    "    'predicted_label': preds\n",
    "})"
   ]
  },
  {
   "cell_type": "code",
   "execution_count": 20,
   "id": "1588eabe-6996-4f51-b435-d6546ea691d7",
   "metadata": {},
   "outputs": [],
   "source": [
    "result.to_csv('finetuned_finbert_preds_2.csv', index=False)"
   ]
  },
  {
   "cell_type": "code",
   "execution_count": 82,
   "id": "dc289231-88f1-4a78-9d1e-5867c426a978",
   "metadata": {},
   "outputs": [
    {
     "data": {
      "text/plain": [
       "('bitcoin_finbert_safety\\\\tokenizer_config.json',\n",
       " 'bitcoin_finbert_safety\\\\special_tokens_map.json',\n",
       " 'bitcoin_finbert_safety\\\\vocab.txt',\n",
       " 'bitcoin_finbert_safety\\\\added_tokens.json',\n",
       " 'bitcoin_finbert_safety\\\\tokenizer.json')"
      ]
     },
     "execution_count": 82,
     "metadata": {},
     "output_type": "execute_result"
    }
   ],
   "source": [
    "model.save_pretrained(\"bitcoin_finbert_safety\")\n",
    "tokenizer.save_pretrained(\"bitcoin_finbert_safety\")"
   ]
  },
  {
   "cell_type": "code",
   "execution_count": null,
   "id": "da8cb06b-29b5-4820-939f-774525596aea",
   "metadata": {},
   "outputs": [],
   "source": []
  }
 ],
 "metadata": {
  "kernelspec": {
   "display_name": "Python 3 (ipykernel)",
   "language": "python",
   "name": "python3"
  },
  "language_info": {
   "codemirror_mode": {
    "name": "ipython",
    "version": 3
   },
   "file_extension": ".py",
   "mimetype": "text/x-python",
   "name": "python",
   "nbconvert_exporter": "python",
   "pygments_lexer": "ipython3",
   "version": "3.11.5"
  }
 },
 "nbformat": 4,
 "nbformat_minor": 5
}
