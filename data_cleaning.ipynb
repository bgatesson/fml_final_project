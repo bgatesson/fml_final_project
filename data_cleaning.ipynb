{
 "cells": [
  {
   "cell_type": "code",
   "execution_count": 5,
   "metadata": {},
   "outputs": [
    {
     "name": "stdout",
     "output_type": "stream",
     "text": [
      "                  Date                                  Short Description  \\\n",
      "0  2021-11-05 04:42:00  Bitcoin price is consolidating near the USD 62...   \n",
      "1  2021-11-05 08:15:00  Congress could finally approve or reject the m...   \n",
      "2  2021-11-05 10:24:00  Bitcoin increasingly becoming a political inst...   \n",
      "3  2021-11-05 16:58:00  There is still potential for the price of bitc...   \n",
      "4  2021-11-05 21:00:00  'Several companies' are looking to Latin Ameri...   \n",
      "\n",
      "   Accurate Sentiments Sentiment_Category  \n",
      "0             0.998558                  0  \n",
      "1             0.000000                  2  \n",
      "2             0.000000                  2  \n",
      "3             0.999458                  0  \n",
      "4             0.000000                  2  \n"
     ]
    }
   ],
   "source": [
    "# Adding sentiment prediction column to the dataset instead of score\n",
    "import pandas as pd\n",
    "\n",
    "# Read the CSV file with the correct path\n",
    "# Assuming the CSV is in the same directory as the notebook\n",
    "df = pd.read_csv('bitcoin_sentiments_21_24.csv')\n",
    "\n",
    "# Create new column based on sentiment values\n",
    "def categorize_sentiment(value):\n",
    "    if value < 0:\n",
    "        return '1'    # Negative sentiment\n",
    "    elif value > 0:\n",
    "        return '0'    # Positive sentiment\n",
    "    else:\n",
    "        return '2'    # Neutral sentiment\n",
    "\n",
    "# Apply the categorization to create the new column\n",
    "df['Sentiment_Category'] = df['Accurate Sentiments'].apply(categorize_sentiment)\n",
    "\n",
    "# Overwrite the original CSV file\n",
    "df.to_csv('bitcoin_sentiments_21_24.csv', index=False)\n",
    "\n",
    "# Display first few rows to verify\n",
    "print(df.head())"
   ]
  },
  {
   "cell_type": "code",
   "execution_count": 12,
   "metadata": {},
   "outputs": [
    {
     "name": "stdout",
     "output_type": "stream",
     "text": [
      "\n",
      "Cleaned DataFrame Preview:\n",
      "                  Date                                Cleaned_Description  \\\n",
      "0  2021-11-05 04:42:00  Bitcoin price is consolidating near the USD 62...   \n",
      "1  2021-11-05 08:15:00  Congress could finally approve or reject the m...   \n",
      "2  2021-11-05 10:24:00  Bitcoin increasingly becoming a political inst...   \n",
      "3  2021-11-05 16:58:00  There is still potential for the price of bitc...   \n",
      "4  2021-11-05 21:00:00  Several companies are looking to Latin America...   \n",
      "\n",
      "   Sentiment_Category  \n",
      "0                   0  \n",
      "1                   2  \n",
      "2                   2  \n",
      "3                   0  \n",
      "4                   2  \n"
     ]
    }
   ],
   "source": [
    "import pandas as pd\n",
    "\n",
    "def clean_text(text):\n",
    "    \"\"\"\n",
    "    Clean text data by removing quotes and special characters\n",
    "    \"\"\"\n",
    "    # Convert to string in case we have any numeric values\n",
    "    text = str(text)\n",
    "    \n",
    "    # Remove all types of quotes\n",
    "    text = text.replace('\"', '')\n",
    "    text = text.replace(\"'\", '')\n",
    "    text = text.replace(''', '')\n",
    "    text = text.replace('`', '')\n",
    "    text = text.replace('´', '')\n",
    "    text = text.replace(''', '')\n",
    "    text = text.replace('\"', '')\n",
    "    text = text.replace('\"', '')\n",
    "    \n",
    "    # Remove special characters but keep # and spaces\n",
    "    text = ''.join(char for char in text if char.isalnum() or char.isspace() or char == '#')\n",
    "    \n",
    "    # Remove extra whitespace\n",
    "    text = ' '.join(text.split())\n",
    "    \n",
    "    return text\n",
    "\n",
    "# Read the CSV file\n",
    "df = pd.read_csv('bitcoin_sentiments_21_24.csv')\n",
    "\n",
    "# Clean the 'Short Description' column\n",
    "df['Cleaned_Description'] = df['Short Description'].apply(clean_text)\n",
    "\n",
    "# Remove rows containing 'x9'\n",
    "df = df[~df['Short Description'].str.contains('x9', na=False)]\n",
    "\n",
    "# Keep only the required columns\n",
    "df_clean = df[['Date', 'Cleaned_Description', 'Sentiment_Category']]\n",
    "\n",
    "# Display a few examples to verify\n",
    "print(\"\\nCleaned DataFrame Preview:\")\n",
    "print(df_clean.head())\n",
    "\n",
    "# Save the cleaned dataframe\n",
    "df_clean.to_csv('bitcoin_sentiments_21_24_cleaned.csv', index=False)"
   ]
  }
 ],
 "metadata": {
  "kernelspec": {
   "display_name": "base",
   "language": "python",
   "name": "python3"
  },
  "language_info": {
   "codemirror_mode": {
    "name": "ipython",
    "version": 3
   },
   "file_extension": ".py",
   "mimetype": "text/x-python",
   "name": "python",
   "nbconvert_exporter": "python",
   "pygments_lexer": "ipython3",
   "version": "3.10.9"
  }
 },
 "nbformat": 4,
 "nbformat_minor": 2
}
